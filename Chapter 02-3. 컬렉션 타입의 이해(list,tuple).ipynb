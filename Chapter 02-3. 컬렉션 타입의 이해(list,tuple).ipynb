{
 "cells": [
  {
   "cell_type": "markdown",
   "metadata": {},
   "source": [
    "## 학습목표\n",
    "    1. list, tuple에 대해 이해 및 실습"
   ]
  },
  {
   "cell_type": "markdown",
   "metadata": {},
   "source": [
    "### **리스트 & 튜플**\n",
    "    * 복수개의 값을 담을 수 있는 데이터 구조\n",
    "    * 실생활에서 사용하는 리스트(학생리스트, 성적리스트 등등)과 동일한 의미로 이해\n",
    "    * list- mutable (생성된 후에 변경 가능)\n",
    "    * tuple - Immutable(생성된 후에 변경 불가능 불변, 고정된 값을 넣을 때 사용)\n",
    "       - 파이썬은 return 값을 tuple로 보냄\n",
    "       - 자바는 하나만 return 할 수 있지만, 파이썬은 여러 값을 return 할 수 있음(tuple로 값을 여러건을 담아서 보내기 때문에 결국엔 \n",
    "                                                                                                                         1건이긴 함)"
   ]
  },
  {
   "cell_type": "markdown",
   "metadata": {},
   "source": [
    "#### **리스트초기화**\n",
    "- [] 안에 값을 담아서 생성\n",
    "- list() 함수로 생성\n",
    "- str.split()함수로 생성"
   ]
  },
  {
   "cell_type": "code",
   "execution_count": 1,
   "metadata": {},
   "outputs": [
    {
     "name": "stdout",
     "output_type": "stream",
     "text": [
      "[]\n"
     ]
    }
   ],
   "source": [
    "a = []\n",
    "print(a)"
   ]
  },
  {
   "cell_type": "code",
   "execution_count": 2,
   "metadata": {},
   "outputs": [
    {
     "name": "stdout",
     "output_type": "stream",
     "text": [
      "[1, 2, 3, 5, 10]\n"
     ]
    }
   ],
   "source": [
    "a = [1, 2, 3, 5, 10]\n",
    "print(a)"
   ]
  },
  {
   "cell_type": "code",
   "execution_count": 3,
   "metadata": {},
   "outputs": [
    {
     "name": "stdout",
     "output_type": "stream",
     "text": [
      "['korea', 'canada', 1, 23, [34, 56]]\n"
     ]
    }
   ],
   "source": [
    "a = ['korea', 'canada', 1, 23, [34, 56]] #다양한 타입을 담을 수 있음\n",
    "print(a)"
   ]
  },
  {
   "cell_type": "markdown",
   "metadata": {},
   "source": [
    "* **list() 함수**\n",
    "    * 다른 데이터 타입을 리스트로 변환할 때도 사용"
   ]
  },
  {
   "cell_type": "code",
   "execution_count": 5,
   "metadata": {},
   "outputs": [
    {
     "name": "stdout",
     "output_type": "stream",
     "text": [
      "['h', 'e', 'l', 'l', 'o', ' ', 'w', 'o', 'r', 'l', 'd']\n",
      "[1, 2, 3]\n"
     ]
    }
   ],
   "source": [
    "a = 'hello world' #String\n",
    "b = list(a) #List Type\n",
    "print(b)\n",
    "\n",
    "c = (1, 2, 3) #튜플\n",
    "d = list(c) #튜플을 list로 변경\n",
    "print(d)"
   ]
  },
  {
   "cell_type": "markdown",
   "metadata": {},
   "source": [
    "* **string split 함수**\n",
    "    * 구분자로 구분되는 리스트를 반환(번번히 사용 됨"
   ]
  },
  {
   "cell_type": "code",
   "execution_count": 8,
   "metadata": {},
   "outputs": [
    {
     "name": "stdout",
     "output_type": "stream",
     "text": [
      "['hello', 'world', 'nice', 'weather']\n"
     ]
    }
   ],
   "source": [
    "a = 'hello world nice weather' #Str 타입\n",
    "b = a.split()  #설정하지 않으면 기본적으로 공백으로 나눠줌 / 결과값을 list로 반환\n",
    "\n",
    "print(b)"
   ]
  },
  {
   "cell_type": "markdown",
   "metadata": {},
   "source": [
    "#### ** 리스트 indexing**\n",
    "    * 문자열의 인덱싱과 동일하게 동작\n",
    "    * [] 연산자를 이용하여 항목 얻어오기\n",
    "    * [i] - i번째 원소를 반환\n",
    "    * i가 음수인 경우도 가능하며 마지막원소가 -1로 하여 앞으로 갈때마다 1씩 감소함"
   ]
  },
  {
   "cell_type": "code",
   "execution_count": null,
   "metadata": {},
   "outputs": [],
   "source": [
    "a = {1, 2, 3, 4, 5, 6}\n",
    "print(a[2])\n",
    "print(a[5])\n",
    "print(a[-1])"
   ]
  },
  {
   "cell_type": "markdown",
   "metadata": {},
   "source": [
    "#### **리스트 개별 아이템에 접근**\n",
    " - 인덱스에 접근하여 값을 업데이트 가능"
   ]
  },
  {
   "cell_type": "code",
   "execution_count": null,
   "metadata": {},
   "outputs": [],
   "source": [
    "# 불변(immutable) : 파이썬에서는 tuple과 문자열은 불변객체임 한번 생성하면 변경 불가능\n",
    "a = 'hello world'\n",
    "a = 'jello world' # 1번방법( 정답x, 새로 생성)\n",
    "\n",
    "#2번방법\n",
    "c = 'j' + a[1:0] # 'j' + 'ello world '\n",
    "\n",
    "#3번방법: 치환\n",
    "d = a.replace('h', 'j')\n",
    "print(a[0])"
   ]
  },
  {
   "cell_type": "markdown",
   "metadata": {},
   "source": [
    "####  리스트 slicing \n",
    " - 문자열 슬라이싱과 동일하게 동작\n",
    " - 슬라이싱의 결고 ㅏ역시 list"
   ]
  },
  {
   "cell_type": "code",
   "execution_count": 10,
   "metadata": {},
   "outputs": [
    {
     "name": "stdout",
     "output_type": "stream",
     "text": [
      "[5, 6, 7]\n",
      "[1, 2, 3, 4, 5, 6, 7]\n",
      "[4, 5, 6, 7, 8]\n",
      "[1, 2, 3, 4, 5, 6, 7, 8]\n"
     ]
    },
    {
     "data": {
      "text/plain": [
       "[2, 4, 6]"
      ]
     },
     "execution_count": 10,
     "metadata": {},
     "output_type": "execute_result"
    }
   ],
   "source": [
    "a = [1, 2, 3, 4, 5, 6, 7, 8]\n",
    "print(a[4:7])\n",
    "print(a[:7])\n",
    "print(a[3:])\n",
    "print(a[:])\n",
    "\n",
    "# slicing\n",
    "# start:end:increment(1)\n",
    "\n",
    "a[1:7]\n",
    "a[1:7:2] # 마지막 값은 건너띄는 값( 2칸씩 건너 띄고 출력), 기본은1"
   ]
  },
  {
   "cell_type": "markdown",
   "metadata": {},
   "source": [
    "### list 멤버 함수\n",
    " - 생성된 리스트 객체에 동작하는 함수\n",
    " - 향후, 클래스와 멤버 함수 개념을 이해할 예정"
   ]
  },
  {
   "cell_type": "markdown",
   "metadata": {},
   "source": [
    "* **append()**\n",
    "    + 리스트의 끝에 항목을 추가함"
   ]
  },
  {
   "cell_type": "code",
   "execution_count": 11,
   "metadata": {},
   "outputs": [
    {
     "name": "stdout",
     "output_type": "stream",
     "text": [
      "[1, 2, 3, 4, 5, 10]\n"
     ]
    }
   ],
   "source": [
    "a = [1, 2, 3, 4, 5]\n",
    "a.append(10) # a 리스트에 맨끝에 10을 추가\n",
    "\n",
    "print(a)"
   ]
  },
  {
   "cell_type": "markdown",
   "metadata": {},
   "source": [
    "+ **extend()**\n",
    " * 리스트를 연장\n",
    " * += 로도 가능함 "
   ]
  },
  {
   "cell_type": "code",
   "execution_count": 12,
   "metadata": {},
   "outputs": [
    {
     "name": "stdout",
     "output_type": "stream",
     "text": [
      "[1, 2, 3, 4, 5, 6, 7, 8, 9, 10]\n"
     ]
    }
   ],
   "source": [
    "a = [1, 2, 3, 4, 5]\n",
    "b = [6, 7, 8, 9, 10]\n",
    "\n",
    "#[1, 2, 3, ,4 , 5, 6, 7, 8 ,9, 10]\n",
    "\n",
    "\n",
    "a.extend(b)\n",
    "print(a)\n",
    "\n"
   ]
  },
  {
   "cell_type": "markdown",
   "metadata": {},
   "source": [
    "+ **insert()로 항목추가**\n",
    "   * 리스트의 원하는 위치에 추가 가능\n",
    "   * 앞에 인덱스를, 뒤에 아이템을 명시"
   ]
  },
  {
   "cell_type": "code",
   "execution_count": 13,
   "metadata": {},
   "outputs": [
    {
     "name": "stdout",
     "output_type": "stream",
     "text": [
      "[1, 40, 3, 4, 5, 6]\n"
     ]
    }
   ],
   "source": [
    "a = [1, 3, 4, 5, 6]\n",
    "a.insert(1, 40) #1번 인덱스에 40을 추가하고 그 뒤로는 한칸씩 다음으로 인덱스를 이동\n",
    "\n",
    "print(a)"
   ]
  },
  {
   "cell_type": "markdown",
   "metadata": {},
   "source": [
    "+ **remove()**\n",
    " * 값으로 항목 삭제(인덱스 아님)\n",
    " * 지우려는 값이 2개 있으면 가장 앞에 값만 삭제\n",
    " * 내가 지우려는 값이 list에 없으면 오류발생"
   ]
  },
  {
   "cell_type": "markdown",
   "metadata": {},
   "source": [
    "### **※ 리스트내의 중복값을 제거하고 싶을 때 사용하는 방법**\n",
    "- List를 set()에 넣고 다시 list로 변환하는 방법(list내에 순서가 중요하지 않은 경우)\n",
    "\n",
    "\n",
    "**list1 = [1, 3, 5, 2, 4, 1, 5].**\n",
    "\n",
    "**print list (set(list1)).**\n",
    "\n",
    " 중복제거 전 : [1, 3, 5, 2, 4, 1, 5].\n",
    " \n",
    " 중복제거 후: [1, 3, 2, 5, 4].\n",
    " \n",
    " \n",
    "- Ordered Dict 라이브러리를 사용하는 방법(list내에 순서가 중효한 경우)\n",
    " **from collections import OrderedDict**\n",
    " \n",
    " **list2 = [1, 2, 3, 4, 5, 3, 5]**\n",
    " \n",
    " **print list(OrderedDict.fromkeys(list2)**\n",
    " \n",
    " 중복제거 전: [1, 2, 3, 4, 5, 3, 5]\n",
    " \n",
    " 중복제거 후: [1, 2, 3, 4, 5]"
   ]
  },
  {
   "cell_type": "markdown",
   "metadata": {},
   "source": [
    "+ **pop()**\n",
    "- 지우고자 하는 아이템을 반환 후, 삭제\n",
    "- 인덱스로 삭제\n",
    "- 인덱스를 명시하지 않으면 가장 마지막 값이 삭제됨"
   ]
  },
  {
   "cell_type": "code",
   "execution_count": 16,
   "metadata": {},
   "outputs": [
    {
     "name": "stdout",
     "output_type": "stream",
     "text": [
      "[1, 2, 4, 5]\n",
      "3\n"
     ]
    }
   ],
   "source": [
    "a = [1, 2, 3, 4, 5]\n",
    "d = a.pop(2) #지워진 값을 변수에 담을 수도 있음(인덱스2 즉 3이라는 값이 d라는 변수에 담김)\n",
    "\n",
    "print(a)\n",
    "print(d)"
   ]
  },
  {
   "cell_type": "markdown",
   "metadata": {},
   "source": [
    "+ **index()**\n",
    " * 찾고자하는 값의 인덱스 반환"
   ]
  },
  {
   "cell_type": "code",
   "execution_count": null,
   "metadata": {},
   "outputs": [],
   "source": [
    "a = [2, 6, 7, 9, 10]\n",
    "a.index(9)"
   ]
  },
  {
   "cell_type": "markdown",
   "metadata": {},
   "source": [
    "* **in 키워드**\n",
    " + 리스트 내에 해당 값이 존재하는지 확인\n",
    " + value in[list]\n",
    " + True, False 중 한가지로 반환"
   ]
  },
  {
   "cell_type": "code",
   "execution_count": 17,
   "metadata": {},
   "outputs": [
    {
     "name": "stdout",
     "output_type": "stream",
     "text": [
      "True\n"
     ]
    }
   ],
   "source": [
    "a = [1, 2, 3, 4, 5, 10]\n",
    "b = 10\n",
    "\n",
    "c = b in a #False(b의 값이 a리스트 내에 포함되어 있냐를 boolean로 출력)\n",
    "\n",
    "print(c)"
   ]
  },
  {
   "cell_type": "markdown",
   "metadata": {},
   "source": [
    "* **list 정렬**\n",
    " + sort() -> 리스트 자체를 내부적으로 정렬\n",
    " + sorted() -> 리스트의 정렬된 복사본을 반환"
   ]
  },
  {
   "cell_type": "code",
   "execution_count": 18,
   "metadata": {},
   "outputs": [
    {
     "name": "stdout",
     "output_type": "stream",
     "text": [
      "[21, 20, 19, 10, 9, 8, 7, 7, 2, 1]\n",
      "[1, 2, 7, 7, 8, 9, 10, 19, 20, 21]\n"
     ]
    }
   ],
   "source": [
    "a = [9, 10, 7, 19, 1, 2, 20, 21, 7, 8]\n",
    "a.sort(reverse=True) #reverse=False가 디폴트(오름차순)\n",
    "b = sorted(a) # a는 그대로 두고, a복사본을 정렬해서 b에 담음\n",
    "print(a)\n",
    "print(b)"
   ]
  },
  {
   "cell_type": "markdown",
   "metadata": {},
   "source": [
    "### **tuple**\n",
    "- 리스트오 ㅏ같이 복수개의 값을 갖는 컬렉션 타입\n",
    "- 생성된 후 벼경이 불가능"
   ]
  },
  {
   "cell_type": "code",
   "execution_count": 24,
   "metadata": {},
   "outputs": [
    {
     "name": "stdout",
     "output_type": "stream",
     "text": [
      "<class 'list'>\n",
      "<class 'tuple'>\n",
      "[100, 2, 3]\n",
      "(1, 2, 3)\n",
      "(4, 5, 6)\n"
     ]
    }
   ],
   "source": [
    "a = [1, 2, 3] #list\n",
    "b = (1, 2, 3) #tuple, () 생략 가능\n",
    "c = 4, 5, 6\n",
    "\n",
    "print(type(a))\n",
    "print(type(b))\n",
    "\n",
    "a[0] = 100\n",
    "print(a)\n",
    "\n",
    "#b[0] = 100 # tuple은 생성 후 값 변경 불가능\n",
    "print(b)\n",
    "\n",
    "print(c)"
   ]
  },
  {
   "cell_type": "markdown",
   "metadata": {},
   "source": [
    "#### **tuple unpacking**\n",
    "- 튜플의 값을 차례대로 변수에 대입\n",
    "- 여러개의 변수에 동시에 값을 집어넣을 때 사용 = tuple unpacking"
   ]
  },
  {
   "cell_type": "code",
   "execution_count": 27,
   "metadata": {},
   "outputs": [
    {
     "name": "stdout",
     "output_type": "stream",
     "text": [
      "(100, 200, 300, 400)\n",
      "100 200 300 400\n"
     ]
    }
   ],
   "source": [
    "abcd = 100, 200, 300, 400 #packing\n",
    "print(abcd)\n",
    "\n",
    "a, b, c, d = abcd #unpacking\n",
    "print(a, b, c, d)\n",
    "\n",
    "#def sum_num(x, y):\n",
    "    #Java\n",
    "    #a = []\n",
    "    #a.apped(x)\n",
    "    #a.append(y)\n",
    "    #return a\n",
    "    \n",
    " #   return x, y\n",
    "\n",
    "#x, y = calc.sum_num(10,20)\n",
    "    "
   ]
  },
  {
   "cell_type": "code",
   "execution_count": 30,
   "metadata": {},
   "outputs": [
    {
     "name": "stdout",
     "output_type": "stream",
     "text": [
      "5 4\n",
      "4 5\n",
      "5 4\n"
     ]
    }
   ],
   "source": [
    "a = 5\n",
    "b = 4\n",
    "print(a,b)\n",
    "\n",
    "#문제) a와 b의 값을 교환하세요\n",
    "\n",
    "#Java방식 \n",
    "x = a\n",
    "a = b\n",
    "b = x\n",
    "print(a,b)\n",
    "\n",
    "#Python 방식\n",
    "a, b = b, a\n",
    "print(a,b)\n",
    "    "
   ]
  }
 ],
 "metadata": {
  "kernelspec": {
   "display_name": "Python 3",
   "language": "python",
   "name": "python3"
  },
  "language_info": {
   "codemirror_mode": {
    "name": "ipython",
    "version": 3
   },
   "file_extension": ".py",
   "mimetype": "text/x-python",
   "name": "python",
   "nbconvert_exporter": "python",
   "pygments_lexer": "ipython3",
   "version": "3.7.7"
  }
 },
 "nbformat": 4,
 "nbformat_minor": 4
}
